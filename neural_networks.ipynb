{
 "cells": [
  {
   "cell_type": "markdown",
   "metadata": {},
   "source": [
    "# Using Neural Networks to Classify Cat and Dog Pictures\n",
    "\n",
    "In this tutorial, we are going to use machine learning to classify images! We will write a program that will automatically learn to recognize whether a picture is of a cat or dog.\n",
    "\n",
    "Here is a cat image:\n",
    "\n",
    "<img src='neural_assets/cat.jpg' width=250/>\n",
    "\n",
    "Meow! I'm too lazy and upside down. Classify me as a cat still, will you?\n",
    "\n",
    "Here is a dog image:\n",
    "\n",
    "<img src='neural_assets/dog.jpg' width=250/>\n",
    "\n",
    "Bow, wow! I've got this toy in my mouth! Don't tell me I'm not a dog anymore!\n",
    "\n",
    "Virtually, all the cat and dog images will be different. We can't possibly write a program that can satisfactorily distinguish between all the possible cat and dog images. These images will have differnt backgrounds, different colored animals in differet poses, they might be chewing on different things, their owners might be holding them up, down, or sideways, and face of the animals might be in any corner of the image. Moreover, images can be of different size and aspect ratio. But fear not! A deep convolutional neural network can handle all these things just fine. Although with a little preprocessing."
   ]
  },
  {
   "cell_type": "markdown",
   "metadata": {},
   "source": [
    "## So what are neural networks?\n",
    "\n",
    "Neural networks (NNs) are machine learning algorithms that are inspired by our knowledge of brain function. Although they have little to do with how the brain works. In a typical NN, there are many nodes and edges, connected to each other layer after layer. Some NNs are shallow and have fewer layers and some NNs are deep and have more layers. Deep learning refers to NNs with more layers. Here are some pictures of what shallow and deep NNs look like:\n",
    "\n",
    "Ref: https://synapse.koreamed.org/DOIx.php?id=10.3348/kjr.2017.18.4.570&vmode=PUBREADER\n",
    "\n",
    "### A shallow neural network\n",
    "\n",
    "<img src='neural_assets/shallow_net.png' width=300/>\n",
    "\n",
    "### A deep neural network\n",
    "\n",
    "<img src='neural_assets/deep_net.png' width=500/>"
   ]
  },
  {
   "cell_type": "markdown",
   "metadata": {},
   "source": [
    "## And how do neural networks work?\n",
    "\n",
    "On the outset, neural networks work in a simple manner. We pass the data to the input layer, these data get transformed by certain parameters and keep going through hidden layers, until they reach output layer. At the output layer, the network make final decision/guess/prediction about the input."
   ]
  },
  {
   "cell_type": "markdown",
   "metadata": {},
   "source": [
    "## How will we use neural networks to classify images?\n",
    "\n",
    "In any machine learning project, bulk of the work happens before we start using algorithms like neural networks. So before we begin using neural networks to classify images, we will have to do what is generally called data preparation. Doing it will bring the data in a format that can be fed to a machine learning algorithm. After the data preparation, we will split data into training and test sets. We will using training set to train our model and test set to assess the accuracy of our model. Remember, it is important to assess the accuracy of the model with test set!\n",
    "\n",
    "* Data preparation\n",
    "* Data splitting (into training and test sets)\n",
    "* Model building (on the training set)\n",
    "* Model validation (on the test set)"
   ]
  },
  {
   "cell_type": "markdown",
   "metadata": {},
   "source": [
    "# Data preparation"
   ]
  },
  {
   "cell_type": "code",
   "execution_count": 1,
   "metadata": {
    "collapsed": true
   },
   "outputs": [],
   "source": [
    "# TBD"
   ]
  },
  {
   "cell_type": "markdown",
   "metadata": {},
   "source": [
    "# Data splitting"
   ]
  },
  {
   "cell_type": "code",
   "execution_count": 2,
   "metadata": {
    "collapsed": true
   },
   "outputs": [],
   "source": [
    "# TBD"
   ]
  },
  {
   "cell_type": "markdown",
   "metadata": {},
   "source": [
    "# Model building"
   ]
  },
  {
   "cell_type": "code",
   "execution_count": 3,
   "metadata": {
    "collapsed": true
   },
   "outputs": [],
   "source": [
    "# TBD"
   ]
  },
  {
   "cell_type": "markdown",
   "metadata": {},
   "source": [
    "# Model validation"
   ]
  },
  {
   "cell_type": "code",
   "execution_count": 4,
   "metadata": {
    "collapsed": true
   },
   "outputs": [],
   "source": [
    "# TBD"
   ]
  },
  {
   "cell_type": "code",
   "execution_count": 1,
   "metadata": {
    "collapsed": false
   },
   "outputs": [
    {
     "name": "stdout",
     "output_type": "stream",
     "text": [
      "[1] \"this\"\n"
     ]
    }
   ],
   "source": [
    "print(\"this\")"
   ]
  }
 ],
 "metadata": {
  "kernelspec": {
   "display_name": "R",
   "language": "R",
   "name": "ir"
  },
  "language_info": {
   "codemirror_mode": "r",
   "file_extension": ".r",
   "mimetype": "text/x-r-source",
   "name": "R",
   "pygments_lexer": "r",
   "version": "3.3.3"
  }
 },
 "nbformat": 4,
 "nbformat_minor": 2
}
